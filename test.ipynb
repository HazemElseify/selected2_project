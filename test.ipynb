{
 "cells": [
  {
   "cell_type": "code",
   "execution_count": 255,
   "id": "946369b6",
   "metadata": {},
   "outputs": [],
   "source": [
    "import warnings\n",
    "warnings.filterwarnings(\"ignore\")"
   ]
  },
  {
   "cell_type": "code",
   "execution_count": 256,
   "id": "581f9daa",
   "metadata": {},
   "outputs": [],
   "source": [
    "import PIL\n",
    "import cv2\n",
    "import re\n",
    "import tensorflow as tf\n",
    "from tensorflow import keras\n",
    "import matplotlib.pyplot as plt\n",
    "import numpy as np\n",
    "import os\n",
    "import pandas as pd\n",
    "from sklearn.metrics import confusion_matrix\n",
    "import seaborn as sns"
   ]
  },
  {
   "cell_type": "code",
   "execution_count": 259,
   "id": "cc4dc418",
   "metadata": {},
   "outputs": [],
   "source": [
    "IMAGE_SIZE = (75, 75, 3)\n",
    "CLASSES = ['rock', 'paper', 'scissors']"
   ]
  },
  {
   "cell_type": "code",
   "execution_count": 260,
   "id": "26007773",
   "metadata": {},
   "outputs": [
    {
     "name": "stdout",
     "output_type": "stream",
     "text": [
      "No. of training items   = 2520\n",
      "No. of validation items = 33\n",
      "No. of test items       = 372\n"
     ]
    }
   ],
   "source": [
    "# 0->rock, 1->paper, 2->scissors\n",
    "train_data_x = []\n",
    "train_data_y = []\n",
    "val_data_x = []\n",
    "val_data_y = []\n",
    "test_data_x = []\n",
    "test_data_y = []\n",
    "folder = 'Rock-Paper-Scissors/train/'\n",
    "for item in CLASSES:\n",
    "    for file in os.listdir(os.path.join(folder, item)):\n",
    "        img = cv2.imread(os.path.join(folder, item, file))\n",
    "        if(img.shape != IMAGE_SIZE):\n",
    "            img = cv2.resize(img, IMAGE_SIZE[:2])\n",
    "        train_data_x.append(img)\n",
    "        train_data_y.append(item)\n",
    "\n",
    "folder = 'Rock-Paper-Scissors/validation/'\n",
    "for file in os.listdir(folder):\n",
    "    img = cv2.imread(os.path.join(folder, file))\n",
    "    if(img.shape != IMAGE_SIZE):\n",
    "        img = cv2.resize(img, IMAGE_SIZE[:2])\n",
    "    val_data_x.append(img)\n",
    "    if(re.match(r'rock.*', file)):    val_data_y.append('rock')\n",
    "    elif(re.match(r'paper.*', file)):    val_data_y.append('paper')\n",
    "    else:    val_data_y.append('scissors')\n",
    "        \n",
    "folder = 'Rock-Paper-Scissors/test/'\n",
    "for item in CLASSES:\n",
    "    for file in os.listdir(os.path.join(folder, item)):\n",
    "        img = cv2.imread(os.path.join(folder, item, file))\n",
    "        if(img.shape != IMAGE_SIZE):\n",
    "            img = cv2.resize(img, IMAGE_SIZE[:2])\n",
    "        test_data_x.append(img)\n",
    "        test_data_y.append(item)\n",
    "        \n",
    "print(\"No. of training items   = \" + str(len(train_data_x)))\n",
    "print(\"No. of validation items = \" + str(len(val_data_x)))\n",
    "print(\"No. of test items       = \" + str(len(test_data_x)))"
   ]
  },
  {
   "cell_type": "code",
   "execution_count": 261,
   "id": "e300d6d7",
   "metadata": {},
   "outputs": [],
   "source": [
    "X_train = np.array(train_data_x, dtype=np.float)\n",
    "y_train = np.zeros((len(train_data_y), len(CLASSES)), dtype=np.float)\n",
    "for i in range(len(train_data_y)):\n",
    "    for j in range(len(CLASSES)):\n",
    "        if(train_data_y[i]==CLASSES[j]):\n",
    "            y_train[i][j] = 1\n",
    "del train_data_x\n",
    "del train_data_y\n",
    "\n",
    "X_val = np.array(val_data_x, dtype=np.float)\n",
    "y_val = np.zeros((len(val_data_y), len(CLASSES)), dtype=np.float)\n",
    "for i in range(len(val_data_y)):\n",
    "    for j in range(len(CLASSES)):\n",
    "        if(val_data_y[i]==CLASSES[j]):\n",
    "            y_val[i][j] = 1\n",
    "del val_data_x\n",
    "del val_data_y\n",
    "\n",
    "X_test = np.array(test_data_x, dtype=np.float)\n",
    "y_test = np.zeros((len(test_data_y), len(CLASSES)), dtype=np.float)\n",
    "for i in range(len(test_data_y)):\n",
    "    for j in range(len(CLASSES)):\n",
    "        if(test_data_y[i]==CLASSES[j]):\n",
    "            y_test[i][j] = 1\n",
    "del test_data_x\n",
    "del test_data_y"
   ]
  },
  {
   "cell_type": "code",
   "execution_count": 262,
   "id": "7eaef835",
   "metadata": {},
   "outputs": [
    {
     "name": "stdout",
     "output_type": "stream",
     "text": [
      "X_train size = (2520, 75, 75, 3)\n",
      "y_train size = (2520, 3)\n",
      "X_val size   = (33, 75, 75, 3)\n",
      "y_val size   = (33, 3)\n",
      "X_test size  = (372, 75, 75, 3)\n",
      "y_test size  = (372, 3)\n"
     ]
    }
   ],
   "source": [
    "print(\"X_train size = \" + str(X_train.shape))\n",
    "print(\"y_train size = \" + str(y_train.shape))\n",
    "print(\"X_val size   = \" + str(X_val.shape))\n",
    "print(\"y_val size   = \" + str(y_val.shape))\n",
    "print(\"X_test size  = \" + str(X_test.shape))\n",
    "print(\"y_test size  = \" + str(y_test.shape))"
   ]
  },
  {
   "cell_type": "code",
   "execution_count": 263,
   "id": "b7ec27a4",
   "metadata": {},
   "outputs": [],
   "source": [
    "scaler = keras.Sequential([keras.layers.experimental.preprocessing.Rescaling(1/255)])"
   ]
  },
  {
   "cell_type": "code",
   "execution_count": 264,
   "id": "dd8e60e1",
   "metadata": {},
   "outputs": [],
   "source": [
    "model = keras.Sequential([ scaler,\n",
    "keras.layers.Conv2D(64,kernel_size=5,strides=1,input_shape=(75, 75, 3),activation=\"relu\"),\n",
    "keras.layers.MaxPooling2D(pool_size=(2,2),strides=2),\n",
    "keras.layers.Conv2D(64,kernel_size=5,strides=1,activation=\"relu\"),\n",
    "keras.layers.MaxPooling2D(pool_size=(2,2),strides=2),\n",
    "keras.layers.Conv2D(64,kernel_size=5,strides=1,activation=\"relu\"),\n",
    "keras.layers.MaxPooling2D(pool_size=(2,2),strides=2),\n",
    "keras.layers.Flatten(),\n",
    "keras.layers.Dense(2304,activation=\"relu\"),\n",
    "keras.layers.Dropout(0.2),\n",
    "keras.layers.Dense(3,activation=\"softmax\")\n",
    "])"
   ]
  },
  {
   "cell_type": "code",
   "execution_count": 265,
   "id": "711b23f6",
   "metadata": {},
   "outputs": [],
   "source": [
    "model.compile(optimizer = tf.keras.optimizers.Adam(),\n",
    "             loss = tf.keras.losses.CategoricalCrossentropy(),\n",
    "             metrics = ['accuracy'])"
   ]
  },
  {
   "cell_type": "code",
   "execution_count": 266,
   "id": "acbb2993",
   "metadata": {},
   "outputs": [
    {
     "name": "stdout",
     "output_type": "stream",
     "text": [
      "Epoch 1/3\n",
      "20/20 [==============================] - 73s 4s/step - loss: 1.0525 - accuracy: 0.4794 - val_loss: 0.8318 - val_accuracy: 0.6667\n",
      "Epoch 2/3\n",
      "20/20 [==============================] - 54s 3s/step - loss: 0.4276 - accuracy: 0.8433 - val_loss: 0.4265 - val_accuracy: 0.8788\n",
      "Epoch 3/3\n",
      "20/20 [==============================] - 49s 2s/step - loss: 0.0771 - accuracy: 0.9766 - val_loss: 0.3564 - val_accuracy: 0.9394\n"
     ]
    }
   ],
   "source": [
    "history = model.fit(X_train,y_train,batch_size=128,validation_data=(X_val,y_val),epochs=3)"
   ]
  },
  {
   "cell_type": "code",
   "execution_count": 267,
   "id": "77703fcc",
   "metadata": {},
   "outputs": [
    {
     "name": "stdout",
     "output_type": "stream",
     "text": [
      "12/12 [==============================] - 3s 239ms/step - loss: 0.8618 - accuracy: 0.8737\n"
     ]
    },
    {
     "data": {
      "text/plain": [
       "[0.861767590045929, 0.8736559152603149]"
      ]
     },
     "execution_count": 267,
     "metadata": {},
     "output_type": "execute_result"
    }
   ],
   "source": [
    "model.evaluate(X_test,y_test)"
   ]
  },
  {
   "cell_type": "code",
   "execution_count": 268,
   "id": "eaeb1f45",
   "metadata": {},
   "outputs": [
    {
     "data": {
      "image/png": "[encoded data removed]",
      "text/plain": [
       "<Figure size 432x288 with 1 Axes>"
      ]
     },
     "metadata": {
      "needs_background": "light"
     },
     "output_type": "display_data"
    }
   ],
   "source": [
    "history_df = pd.DataFrame(history.history)\n",
    "plt.plot(history_df.accuracy,label=\"Accuracy\")\n",
    "plt.plot(history_df.val_accuracy,label=\"Validation Accuracy\")\n",
    "plt.legend()\n",
    "plt.xlabel(\"Epochs\")\n",
    "plt.ylabel(\"Accuracy\")\n",
    "plt.grid()"
   ]
  },
  {
   "cell_type": "code",
   "execution_count": 269,
   "id": "e2d8bfaf",
   "metadata": {},
   "outputs": [
    {
     "data": {
      "image/png": "[encoded data removed]",
      "text/plain": [
       "<Figure size 432x288 with 1 Axes>"
      ]
     },
     "metadata": {
      "needs_background": "light"
     },
     "output_type": "display_data"
    }
   ],
   "source": [
    "plt.plot(history_df.loss,label=\"Loss\")\n",
    "plt.plot(history_df.val_loss,label=\"Validation Loss\")\n",
    "plt.legend()\n",
    "plt.xlabel(\"Epochs\")\n",
    "plt.ylabel(\"Loss\")\n",
    "plt.grid(True)\n"
   ]
  },
  {
   "cell_type": "code",
   "execution_count": 270,
   "id": "45b2fbba",
   "metadata": {},
   "outputs": [
    {
     "name": "stdout",
     "output_type": "stream",
     "text": [
      "12/12 [==============================] - 3s 247ms/step\n"
     ]
    }
   ],
   "source": [
    "y_pred = model.predict(X_test)\n",
    "y_test=np.argmax(y_test,axis=1)\n",
    "y_pred=np.argmax(y_pred,axis=1)"
   ]
  },
  {
   "cell_type": "code",
   "execution_count": 276,
   "id": "d10ec5f4",
   "metadata": {},
   "outputs": [
    {
     "data": {
      "image/png": "[encoded data removed]",
      "text/plain": [
       "<Figure size 720x576 with 2 Axes>"
      ]
     },
     "metadata": {
      "needs_background": "light"
     },
     "output_type": "display_data"
    }
   ],
   "source": [
    "confusion_mtx = confusion_matrix(y_pred,y_test) \n",
    "plt.figure(figsize = (10,8))\n",
    "sns.heatmap(confusion_mtx, annot=True, fmt='d',);"
   ]
  },
  {
   "cell_type": "code",
   "execution_count": null,
   "id": "22fb27da",
   "metadata": {},
   "outputs": [],
   "source": []
  }
 ],
 "metadata": {
  "kernelspec": {
   "display_name": "Python 3 (ipykernel)",
   "language": "python",
   "name": "python3"
  },
  "language_info": {
   "codemirror_mode": {
    "name": "ipython",
    "version": 3
   },
   "file_extension": ".py",
   "mimetype": "text/x-python",
   "name": "python",
   "nbconvert_exporter": "python",
   "pygments_lexer": "ipython3",
   "version": "3.9.7"
  }
 },
 "nbformat": 4,
 "nbformat_minor": 5
}
